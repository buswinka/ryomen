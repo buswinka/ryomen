{
 "cells": [
  {
   "cell_type": "markdown",
   "metadata": {
    "collapsed": true,
    "pycharm": {
     "name": "#%% md\n"
    }
   },
   "source": [
    "\n",
    "Installation\n",
    "============"
   ]
  },
  {
   "cell_type": "markdown",
   "source": [
    "## Requirements\n",
    "`ryomen` is a pure, vanilla python extension, requiring no dependencies. \n",
    "\n",
    "\n",
    "## Detailed Installation\n",
    "To install ryomen, ensure you that **Python Version 3.11** as well as all dependencies properly installed. It is recommended\n",
    "to use the [Anaconda](https://www.anaconda.com/) distribution of python with a dedicated environment. To do a recommended install,\n",
    "please use the following steps.\n",
    "\n",
    "1) Open your terminal, or Anaconda prompt if windows, and type `pip install ryomen -U`"
   ],
   "metadata": {
    "collapsed": false,
    "pycharm": {
     "name": "#%% md\n"
    }
   }
  }
 ],
 "metadata": {
  "kernelspec": {
   "display_name": "Python 3",
   "language": "python",
   "name": "python3"
  },
  "language_info": {
   "codemirror_mode": {
    "name": "ipython",
    "version": 2
   },
   "file_extension": ".py",
   "mimetype": "text/x-python",
   "name": "python",
   "nbconvert_exporter": "python",
   "pygments_lexer": "ipython2",
   "version": "2.7.6"
  }
 },
 "nbformat": 4,
 "nbformat_minor": 0
}
